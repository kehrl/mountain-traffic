{
 "cells": [
  {
   "cell_type": "code",
   "execution_count": null,
   "metadata": {},
   "outputs": [],
   "source": [
    "# Create basemap showing data\n",
    "\n",
    "%matplotlib inline\n",
    "\n",
    "import matplotlib.pyplot as plt\n",
    "from mpl_toolkits.basemap import Basemap\n",
    "import pyproj\n",
    "import geopandas as gpd\n",
    "import pandas as pd\n",
    "import numpy as np\n",
    "\n",
    "roadshpfile = 'traffic_data/sr24kDecrease_20161231'\n",
    "roadshp = gpd.read_file(roadshpfile+'.shp')\n",
    "tmp = roadshp.to_crs({'proj':'longlat', 'ellps':'WGS84', 'datum':'WGS84'})\n",
    "tmp.to_file(roadshpfile+'_wgs84.shp', driver='ESRI Shapefile')\n",
    "\n",
    "plt.figure(figsize=(14, 7))\n",
    "\n",
    "# Plot background image\n",
    "map = Basemap(llcrnrlon=-125,llcrnrlat=45,urcrnrlon=-116,urcrnrlat=49.5,resolution='i')\n",
    "map.arcgisimage(service='ESRI_Imagery_World_2D',xpixels=2000)\n",
    "\n",
    "# Plot roads\n",
    "roads_info = map.readshapefile(roadshpfile+'_wgs84','roads',linewidth=0.5,color='0.8')\n",
    "for info, coords in zip(map.roads_info,map.roads):\n",
    "    if (info['StateRoute']=='090') or (info['StateRoute']=='002'):\n",
    "        x, y = zip(*coords)\n",
    "        map.plot(x,y,'w',linewidth=2)\n",
    "\n",
    "# Plot borders\n",
    "map.drawcoastlines(linewidth=2)\n",
    "map.drawstates(linewidth=2)\n",
    "map.drawcountries(linewidth=2)\n",
    "        \n",
    "# Plot traffic sites\n",
    "traffic_sites = ['S901','R039W','S903','B04','R038','R058E','R047WW']\n",
    "traffic_locs = []\n",
    "for site in traffic_sites:\n",
    "    traffic_locs.append(pd.read_csv('traffic_data/TrafficVolumeByHour_'+site+\\\n",
    "            '_2007-01_2017-12.csv').SiteLocation.unique())\n",
    "mileposts_info = map.readshapefile('traffic_data/SRMilepostMarkers','mileposts',linewidth=0)\n",
    "\n",
    "for loc in traffic_locs:\n",
    "    p = str(loc).split()\n",
    "    for info, coords in zip(map.mileposts_info,map.mileposts):\n",
    "        if (info['SR'] == p[2]) and (float(info['MP_VALUE']) == np.round(float(p[5]))):\n",
    "            plt.plot(coords[0],coords[1],'ko',markerfacecolor='r',markersize=10)\n",
    "\n",
    "# Label passes\n",
    "plt.annotate('Snoqualmie Pass (I-90)',xy=(-121.4001,47.3723),xytext=(-122,46.4),\\\n",
    "             fontsize=16,xycoords='data',textcoords='data',\\\n",
    "             arrowprops=dict(arrowstyle=\"->\",color='w',linewidth=1.5),color='w',fontweight='bold')\n",
    "plt.annotate('Stevens Pass (SR-2)',xy=(-121.0890,47.7448),xytext=(-121.8,48.2),\\\n",
    "             fontsize=16,xycoords='data',textcoords='data',\\\n",
    "             arrowprops=dict(arrowstyle=\"->\",color='w',linewidth=1.5),color='w',fontweight='bold')\n",
    "\n",
    "plt.tight_layout()\n",
    "plt.savefig('figures/WA_state_map.pdf',dpi=400,transparent=True)\n"
   ]
  },
  {
   "cell_type": "code",
   "execution_count": null,
   "metadata": {},
   "outputs": [],
   "source": []
  }
 ],
 "metadata": {
  "kernelspec": {
   "display_name": "Python 3",
   "language": "python",
   "name": "python3"
  },
  "language_info": {
   "codemirror_mode": {
    "name": "ipython",
    "version": 3
   },
   "file_extension": ".py",
   "mimetype": "text/x-python",
   "name": "python",
   "nbconvert_exporter": "python",
   "pygments_lexer": "ipython3",
   "version": "3.6.4"
  }
 },
 "nbformat": 4,
 "nbformat_minor": 2
}
